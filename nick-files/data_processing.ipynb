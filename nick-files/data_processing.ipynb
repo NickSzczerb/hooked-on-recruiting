{
 "cells": [
  {
   "cell_type": "code",
   "execution_count": 1,
   "id": "8292995c",
   "metadata": {},
   "outputs": [],
   "source": [
    "import pandas as pd\n",
    "import numpy as np"
   ]
  },
  {
   "cell_type": "code",
   "execution_count": 2,
   "id": "457f4898",
   "metadata": {},
   "outputs": [],
   "source": [
    "df = pd.read_csv(\"../raw_data/Train_rev1.csv\")"
   ]
  },
  {
   "cell_type": "code",
   "execution_count": 3,
   "id": "bad19d9b",
   "metadata": {},
   "outputs": [
    {
     "data": {
      "text/plain": [
       "Index(['Id', 'Title', 'FullDescription', 'LocationRaw', 'LocationNormalized',\n",
       "       'ContractType', 'ContractTime', 'Company', 'Category', 'SalaryRaw',\n",
       "       'SalaryNormalized', 'SourceName'],\n",
       "      dtype='object')"
      ]
     },
     "execution_count": 3,
     "metadata": {},
     "output_type": "execute_result"
    }
   ],
   "source": [
    "df.keys()"
   ]
  },
  {
   "cell_type": "code",
   "execution_count": 4,
   "id": "6e1d7016",
   "metadata": {},
   "outputs": [],
   "source": [
    "'''define a list of job jobs/ job cateogries for parsing'''\n",
    "\n",
    "top_jobs = ['training specialist','helpdesk','technical support','database administrator','IT Trainer','IT Support','Data Architect','Tech Support','tech sales','sales','product manager','product lead','Analytics','Software Development Engineer', 'Full Stack Software Engineer', 'Technical Support Engineer', 'Site Reliability Engineer', 'Infrastructure Engineer', 'Java Software Engineer', 'Software Test Engineer', 'Systems Administrator', 'Application Developer', 'C++ Software Engineer', 'Full Stack Developer', 'Application Engineer', 'Reliability Engineer', 'System Administrator', 'Technical Consultant', 'JavaScript Developer', 'Integration Engineer', 'Engineering Manager', 'Front End Developer', 'Solutions Architect', 'Technical Architect', 'Operations Engineer', 'Full Stack Engineer', 'Technology Engineer', 'Application Analyst', 'Automation Engineer', 'IT Support Engineer', 'Solution Consultant', 'Software Developer', 'Back End Developer', 'Front End Engineer', 'Technology Manager', 'Solutions Engineer', 'Security Architect', 'Support Technician', 'Platform Engineer', 'Security Engineer', 'Solution Engineer', 'Back End Engineer', 'Marketing Manager', 'Systems Developer', 'Embedded Engineer', 'Systems Engineer', 'Support Engineer', 'Business Analyst', 'Network Engineer', 'Engineering Lead', 'Python Developer', 'Digital Engineer', 'Product Engineer', 'Quality Engineer', 'Security Analyst', 'Project Engineer', 'Software Manager', 'DevOps Engineer', 'Project Manager', 'Support Analyst', 'Design Engineer', 'Cloud Architect', 'Product Manager', 'Python Engineer', 'Systems Analyst', 'Digital Manager', 'React Developer', 'Account Manager', 'Systems Manager', 'Cloud Engineer', 'Java Developer', 'Technical Lead', 'Data Scientist', 'NET Developer', 'Data Architect', 'Azure Engineer', 'Linux Engineer', 'Data Developer', 'Data Engineer', 'Test Engineer', 'Web Developer', 'Java Engineer', 'Software Lead', 'Site Engineer', 'PHP Developer', 'Data Analyst', 'Data Manager', 'AWS Engineer', 'C# Developer', 'Test Analyst', 'Ops Engineer', 'IT Engineer', 'QA Engineer', 'IT Analyst', 'IT Manager', 'Scientist', 'Data Lead', 'Tech Lead',\n",
    "            'software engineer','Engineer','security consultant''Consultant','reporting analyst','technologist', 'technician',\n",
    "           'data administrator',\n",
    "'data warehouse',\n",
    "'data migration',\n",
    "'database analyst',\n",
    "'data entry','security specialist','data specialist','Product','data',\n",
    "           'mobile developer',\n",
    "'applications developer','oracle developer', 'Developer',\n",
    "'technical trainer','administrator','training manager',\n",
    "            'visual designer', 'technical team lead',\n",
    "           'linux admin','crm developer','delivery manager',\n",
    "            'graphic design','business intelligence','programmer','team lead','account executive'\n",
    "           ]"
   ]
  },
  {
   "cell_type": "code",
   "execution_count": 5,
   "id": "543d6354",
   "metadata": {
    "scrolled": true
   },
   "outputs": [
    {
     "data": {
      "text/plain": [
       "['training specialist',\n",
       " 'helpdesk',\n",
       " 'technical support',\n",
       " 'database administrator',\n",
       " 'it trainer',\n",
       " 'it support',\n",
       " 'data architect',\n",
       " 'tech support',\n",
       " 'tech sales',\n",
       " 'sales',\n",
       " 'product manager',\n",
       " 'product lead',\n",
       " 'analytics',\n",
       " 'software development engineer',\n",
       " 'full stack software engineer',\n",
       " 'technical support engineer',\n",
       " 'site reliability engineer',\n",
       " 'infrastructure engineer',\n",
       " 'java software engineer',\n",
       " 'software test engineer',\n",
       " 'systems administrator',\n",
       " 'application developer',\n",
       " 'c++ software engineer',\n",
       " 'full stack developer',\n",
       " 'application engineer',\n",
       " 'reliability engineer',\n",
       " 'system administrator',\n",
       " 'technical consultant',\n",
       " 'javascript developer',\n",
       " 'integration engineer',\n",
       " 'engineering manager',\n",
       " 'front end developer',\n",
       " 'solutions architect',\n",
       " 'technical architect',\n",
       " 'operations engineer',\n",
       " 'full stack engineer',\n",
       " 'technology engineer',\n",
       " 'application analyst',\n",
       " 'automation engineer',\n",
       " 'it support engineer',\n",
       " 'solution consultant',\n",
       " 'software developer',\n",
       " 'back end developer',\n",
       " 'front end engineer',\n",
       " 'technology manager',\n",
       " 'solutions engineer',\n",
       " 'security architect',\n",
       " 'support technician',\n",
       " 'platform engineer',\n",
       " 'security engineer',\n",
       " 'solution engineer',\n",
       " 'back end engineer',\n",
       " 'marketing manager',\n",
       " 'systems developer',\n",
       " 'embedded engineer',\n",
       " 'systems engineer',\n",
       " 'support engineer',\n",
       " 'business analyst',\n",
       " 'network engineer',\n",
       " 'engineering lead',\n",
       " 'python developer',\n",
       " 'digital engineer',\n",
       " 'product engineer',\n",
       " 'quality engineer',\n",
       " 'security analyst',\n",
       " 'project engineer',\n",
       " 'software manager',\n",
       " 'devops engineer',\n",
       " 'project manager',\n",
       " 'support analyst',\n",
       " 'design engineer',\n",
       " 'cloud architect',\n",
       " 'product manager',\n",
       " 'python engineer',\n",
       " 'systems analyst',\n",
       " 'digital manager',\n",
       " 'react developer',\n",
       " 'account manager',\n",
       " 'systems manager',\n",
       " 'cloud engineer',\n",
       " 'java developer',\n",
       " 'technical lead',\n",
       " 'data scientist',\n",
       " 'net developer',\n",
       " 'data architect',\n",
       " 'azure engineer',\n",
       " 'linux engineer',\n",
       " 'data developer',\n",
       " 'data engineer',\n",
       " 'test engineer',\n",
       " 'web developer',\n",
       " 'java engineer',\n",
       " 'software lead',\n",
       " 'site engineer',\n",
       " 'php developer',\n",
       " 'data analyst',\n",
       " 'data manager',\n",
       " 'aws engineer',\n",
       " 'c# developer',\n",
       " 'test analyst',\n",
       " 'ops engineer',\n",
       " 'it engineer',\n",
       " 'qa engineer',\n",
       " 'it analyst',\n",
       " 'it manager',\n",
       " 'scientist',\n",
       " 'data lead',\n",
       " 'tech lead',\n",
       " 'software engineer',\n",
       " 'engineer',\n",
       " 'security consultantconsultant',\n",
       " 'reporting analyst',\n",
       " 'technologist',\n",
       " 'technician',\n",
       " 'data administrator',\n",
       " 'data warehouse',\n",
       " 'data migration',\n",
       " 'database analyst',\n",
       " 'data entry',\n",
       " 'security specialist',\n",
       " 'data specialist',\n",
       " 'product',\n",
       " 'data',\n",
       " 'mobile developer',\n",
       " 'applications developer',\n",
       " 'oracle developer',\n",
       " 'developer',\n",
       " 'technical trainer',\n",
       " 'administrator',\n",
       " 'training manager',\n",
       " 'visual designer',\n",
       " 'technical team lead',\n",
       " 'linux admin',\n",
       " 'crm developer',\n",
       " 'delivery manager',\n",
       " 'graphic design',\n",
       " 'business intelligence',\n",
       " 'programmer',\n",
       " 'team lead',\n",
       " 'account executive']"
      ]
     },
     "execution_count": 5,
     "metadata": {},
     "output_type": "execute_result"
    }
   ],
   "source": [
    "'''clean top jobs list'''\n",
    "top_jobs_cleaned = []\n",
    "for i in top_jobs:\n",
    "    top_jobs_cleaned.append(i.lower())\n",
    "top_jobs_cleaned"
   ]
  },
  {
   "cell_type": "code",
   "execution_count": 6,
   "id": "6c4cabca",
   "metadata": {},
   "outputs": [
    {
     "data": {
      "text/plain": [
       "(244767, 12)"
      ]
     },
     "execution_count": 6,
     "metadata": {},
     "output_type": "execute_result"
    }
   ],
   "source": [
    "df = df.dropna(subset=['Title','FullDescription'])\n",
    "df.shape"
   ]
  },
  {
   "cell_type": "code",
   "execution_count": 7,
   "id": "55521299",
   "metadata": {},
   "outputs": [],
   "source": [
    "'''reduce size'''\n",
    "df=df.drop(columns=['Id',\n",
    "                    'LocationRaw',\n",
    "                    'LocationNormalized',\n",
    "                    'ContractType',\n",
    "                    'ContractTime',\n",
    "                    'Company',\n",
    "                    'SalaryRaw',\n",
    "                    'SourceName'])"
   ]
  },
  {
   "cell_type": "code",
   "execution_count": 8,
   "id": "70acc255",
   "metadata": {},
   "outputs": [],
   "source": [
    "type(df[['Title']])\n",
    "df['Title'] = df['Title'].apply(lambda x: x.lower())"
   ]
  },
  {
   "cell_type": "code",
   "execution_count": 9,
   "id": "d9bd06df",
   "metadata": {},
   "outputs": [],
   "source": [
    "'''multiple steps for creating column containing first matched terms from list of top jobs'''\n",
    "\n",
    "df['Title_fixed'] = df['Title'].apply(lambda x: [i for i in top_jobs_cleaned if x.find(i)!=-1])\n",
    "df['Title_fixed'] = df['Title_fixed'].apply(lambda x: x[0] if len(x) != 0 else 'BLANK')\n",
    "df['Title_fixed'] = np.where(df['Title_fixed']=='BLANK', df['Title'], df['Title_fixed'])"
   ]
  },
  {
   "cell_type": "code",
   "execution_count": null,
   "id": "03354280",
   "metadata": {},
   "outputs": [],
   "source": []
  },
  {
   "cell_type": "code",
   "execution_count": 10,
   "id": "c347397f",
   "metadata": {},
   "outputs": [],
   "source": [
    "'''Choose only IT jobs'''\n",
    "tech_jobs = df[df['Category']=='IT Jobs']"
   ]
  },
  {
   "cell_type": "code",
   "execution_count": 11,
   "id": "f8ae385d",
   "metadata": {},
   "outputs": [
    {
     "name": "stdout",
     "output_type": "stream",
     "text": [
      "7013\n",
      "(38483, 5)\n"
     ]
    }
   ],
   "source": [
    "print(len(set(tech_jobs['Title_fixed'])))\n",
    "print(tech_jobs.shape)"
   ]
  },
  {
   "cell_type": "code",
   "execution_count": 12,
   "id": "71ea3bdb",
   "metadata": {},
   "outputs": [
    {
     "data": {
      "text/html": [
       "<div>\n",
       "<style scoped>\n",
       "    .dataframe tbody tr th:only-of-type {\n",
       "        vertical-align: middle;\n",
       "    }\n",
       "\n",
       "    .dataframe tbody tr th {\n",
       "        vertical-align: top;\n",
       "    }\n",
       "\n",
       "    .dataframe thead th {\n",
       "        text-align: right;\n",
       "    }\n",
       "</style>\n",
       "<table border=\"1\" class=\"dataframe\">\n",
       "  <thead>\n",
       "    <tr style=\"text-align: right;\">\n",
       "      <th></th>\n",
       "      <th>Title</th>\n",
       "      <th>FullDescription</th>\n",
       "      <th>Category</th>\n",
       "      <th>SalaryNormalized</th>\n",
       "      <th>Title_fixed</th>\n",
       "    </tr>\n",
       "  </thead>\n",
       "  <tbody>\n",
       "    <tr>\n",
       "      <th>2468</th>\n",
       "      <td>injection moulding product designer</td>\n",
       "      <td>• Tooling experience is an advantage • Automot...</td>\n",
       "      <td>IT Jobs</td>\n",
       "      <td>36000</td>\n",
       "      <td>product</td>\n",
       "    </tr>\n",
       "    <tr>\n",
       "      <th>2650</th>\n",
       "      <td>programme manager  manufacturing / production</td>\n",
       "      <td>Programme Manager  Manufacturing / Engineering...</td>\n",
       "      <td>IT Jobs</td>\n",
       "      <td>60000</td>\n",
       "      <td>product</td>\n",
       "    </tr>\n",
       "    <tr>\n",
       "      <th>2670</th>\n",
       "      <td>senior manager, product development  authenticati</td>\n",
       "      <td>Senior Manager, Product Development  Authentic...</td>\n",
       "      <td>IT Jobs</td>\n",
       "      <td>75000</td>\n",
       "      <td>product</td>\n",
       "    </tr>\n",
       "    <tr>\n",
       "      <th>7604</th>\n",
       "      <td>credit risk/ market risk product designer/ pro...</td>\n",
       "      <td>Credit Risk/ Market risk Product Designer/ pro...</td>\n",
       "      <td>IT Jobs</td>\n",
       "      <td>75000</td>\n",
       "      <td>product</td>\n",
       "    </tr>\n",
       "    <tr>\n",
       "      <th>9411</th>\n",
       "      <td>product development manager  java, rdbms, spri...</td>\n",
       "      <td>Product Development Manager  Java, RDBMS, Spri...</td>\n",
       "      <td>IT Jobs</td>\n",
       "      <td>51000</td>\n",
       "      <td>product</td>\n",
       "    </tr>\n",
       "    <tr>\n",
       "      <th>...</th>\n",
       "      <td>...</td>\n",
       "      <td>...</td>\n",
       "      <td>...</td>\n",
       "      <td>...</td>\n",
       "      <td>...</td>\n",
       "    </tr>\n",
       "    <tr>\n",
       "      <th>129124</th>\n",
       "      <td>production operative</td>\n",
       "      <td>Job Title: Production Operative Salary: ****  ...</td>\n",
       "      <td>IT Jobs</td>\n",
       "      <td>18000</td>\n",
       "      <td>product</td>\n",
       "    </tr>\n",
       "    <tr>\n",
       "      <th>129555</th>\n",
       "      <td>security penetration tester, product security ...</td>\n",
       "      <td>Oxfordshire. My client is a global software ho...</td>\n",
       "      <td>IT Jobs</td>\n",
       "      <td>57500</td>\n",
       "      <td>product</td>\n",
       "    </tr>\n",
       "    <tr>\n",
       "      <th>133455</th>\n",
       "      <td>production dba</td>\n",
       "      <td>Our Nottingham based client has requirement fo...</td>\n",
       "      <td>IT Jobs</td>\n",
       "      <td>38500</td>\n",
       "      <td>product</td>\n",
       "    </tr>\n",
       "    <tr>\n",
       "      <th>134576</th>\n",
       "      <td>developer/product consultant</td>\n",
       "      <td>We are recruiting for a degree educated candid...</td>\n",
       "      <td>IT Jobs</td>\n",
       "      <td>24000</td>\n",
       "      <td>product</td>\n",
       "    </tr>\n",
       "    <tr>\n",
       "      <th>136945</th>\n",
       "      <td>product specialist c aspnet ****k watford herts</td>\n",
       "      <td>C ASP.NET SQL PRODUCT SPECIALIST ****K WATFORD...</td>\n",
       "      <td>IT Jobs</td>\n",
       "      <td>30000</td>\n",
       "      <td>product</td>\n",
       "    </tr>\n",
       "  </tbody>\n",
       "</table>\n",
       "<p>75 rows × 5 columns</p>\n",
       "</div>"
      ],
      "text/plain": [
       "                                                    Title  \\\n",
       "2468                  injection moulding product designer   \n",
       "2650        programme manager  manufacturing / production   \n",
       "2670    senior manager, product development  authenticati   \n",
       "7604    credit risk/ market risk product designer/ pro...   \n",
       "9411    product development manager  java, rdbms, spri...   \n",
       "...                                                   ...   \n",
       "129124                               production operative   \n",
       "129555  security penetration tester, product security ...   \n",
       "133455                                     production dba   \n",
       "134576                       developer/product consultant   \n",
       "136945    product specialist c aspnet ****k watford herts   \n",
       "\n",
       "                                          FullDescription Category  \\\n",
       "2468    • Tooling experience is an advantage • Automot...  IT Jobs   \n",
       "2650    Programme Manager  Manufacturing / Engineering...  IT Jobs   \n",
       "2670    Senior Manager, Product Development  Authentic...  IT Jobs   \n",
       "7604    Credit Risk/ Market risk Product Designer/ pro...  IT Jobs   \n",
       "9411    Product Development Manager  Java, RDBMS, Spri...  IT Jobs   \n",
       "...                                                   ...      ...   \n",
       "129124  Job Title: Production Operative Salary: ****  ...  IT Jobs   \n",
       "129555  Oxfordshire. My client is a global software ho...  IT Jobs   \n",
       "133455  Our Nottingham based client has requirement fo...  IT Jobs   \n",
       "134576  We are recruiting for a degree educated candid...  IT Jobs   \n",
       "136945  C ASP.NET SQL PRODUCT SPECIALIST ****K WATFORD...  IT Jobs   \n",
       "\n",
       "        SalaryNormalized Title_fixed  \n",
       "2468               36000     product  \n",
       "2650               60000     product  \n",
       "2670               75000     product  \n",
       "7604               75000     product  \n",
       "9411               51000     product  \n",
       "...                  ...         ...  \n",
       "129124             18000     product  \n",
       "129555             57500     product  \n",
       "133455             38500     product  \n",
       "134576             24000     product  \n",
       "136945             30000     product  \n",
       "\n",
       "[75 rows x 5 columns]"
      ]
     },
     "execution_count": 12,
     "metadata": {},
     "output_type": "execute_result"
    }
   ],
   "source": [
    "'''check titles'''\n",
    "tech_jobs[tech_jobs['Title_fixed']=='product'].head(75)"
   ]
  },
  {
   "cell_type": "code",
   "execution_count": 13,
   "id": "dcdc4521",
   "metadata": {
    "scrolled": false
   },
   "outputs": [
    {
     "name": "stderr",
     "output_type": "stream",
     "text": [
      "/var/folders/8l/ykm4q3vn60bgvlnxp5qt0mz00000gn/T/ipykernel_38685/99744644.py:2: SettingWithCopyWarning: \n",
      "A value is trying to be set on a copy of a slice from a DataFrame.\n",
      "Try using .loc[row_indexer,col_indexer] = value instead\n",
      "\n",
      "See the caveats in the documentation: https://pandas.pydata.org/pandas-docs/stable/user_guide/indexing.html#returning-a-view-versus-a-copy\n",
      "  tech_jobs['Title_final_category'] = tech_jobs['Title_fixed'].apply(lambda x: x if x in top_jobs_cleaned else 'Other')\n"
     ]
    }
   ],
   "source": [
    "'''create a master categorization based on the fixed titles'''\n",
    "tech_jobs['Title_final_category'] = tech_jobs['Title_fixed'].apply(lambda x: x if x in top_jobs_cleaned else 'Other')"
   ]
  },
  {
   "cell_type": "code",
   "execution_count": 14,
   "id": "4bce4473",
   "metadata": {
    "scrolled": false
   },
   "outputs": [
    {
     "data": {
      "text/plain": [
       "'output data'"
      ]
     },
     "execution_count": 14,
     "metadata": {},
     "output_type": "execute_result"
    }
   ],
   "source": [
    "'''output data'''\n",
    "#tech_jobs[\"Title_final_category\"].value_counts().head(50)\n",
    "#tech_jobs = tech_jobs.drop(columns=['FullDescription'])\n",
    "#tech_jobs.to_csv(r'./fixed_titles.csv', index = False)"
   ]
  },
  {
   "cell_type": "code",
   "execution_count": 15,
   "id": "b4911d29",
   "metadata": {
    "scrolled": true
   },
   "outputs": [
    {
     "data": {
      "text/html": [
       "<div>\n",
       "<style scoped>\n",
       "    .dataframe tbody tr th:only-of-type {\n",
       "        vertical-align: middle;\n",
       "    }\n",
       "\n",
       "    .dataframe tbody tr th {\n",
       "        vertical-align: top;\n",
       "    }\n",
       "\n",
       "    .dataframe thead th {\n",
       "        text-align: right;\n",
       "    }\n",
       "</style>\n",
       "<table border=\"1\" class=\"dataframe\">\n",
       "  <thead>\n",
       "    <tr style=\"text-align: right;\">\n",
       "      <th></th>\n",
       "      <th>Title</th>\n",
       "      <th>FullDescription</th>\n",
       "      <th>Category</th>\n",
       "      <th>SalaryNormalized</th>\n",
       "      <th>Title_fixed</th>\n",
       "      <th>Title_final_category</th>\n",
       "    </tr>\n",
       "  </thead>\n",
       "  <tbody>\n",
       "    <tr>\n",
       "      <th>31</th>\n",
       "      <td>c/c++ developer</td>\n",
       "      <td>A leading company that provides stock market a...</td>\n",
       "      <td>IT Jobs</td>\n",
       "      <td>32500</td>\n",
       "      <td>developer</td>\n",
       "      <td>developer</td>\n",
       "    </tr>\n",
       "    <tr>\n",
       "      <th>32</th>\n",
       "      <td>senior php developer</td>\n",
       "      <td>A skilled Senior PHP Developer is required by ...</td>\n",
       "      <td>IT Jobs</td>\n",
       "      <td>45000</td>\n",
       "      <td>php developer</td>\n",
       "      <td>php developer</td>\n",
       "    </tr>\n",
       "    <tr>\n",
       "      <th>33</th>\n",
       "      <td>senior website designer</td>\n",
       "      <td>SENIOR WEBSITE DESIGNER Location: York, East Y...</td>\n",
       "      <td>IT Jobs</td>\n",
       "      <td>25000</td>\n",
       "      <td>senior website designer</td>\n",
       "      <td>Other</td>\n",
       "    </tr>\n",
       "    <tr>\n",
       "      <th>34</th>\n",
       "      <td>business development manager</td>\n",
       "      <td>The Company: Our client are a full service, cr...</td>\n",
       "      <td>IT Jobs</td>\n",
       "      <td>21000</td>\n",
       "      <td>business development manager</td>\n",
       "      <td>Other</td>\n",
       "    </tr>\n",
       "    <tr>\n",
       "      <th>38</th>\n",
       "      <td>qa engineer</td>\n",
       "      <td>An expanding software and consultancy services...</td>\n",
       "      <td>IT Jobs</td>\n",
       "      <td>30000</td>\n",
       "      <td>qa engineer</td>\n",
       "      <td>qa engineer</td>\n",
       "    </tr>\n",
       "    <tr>\n",
       "      <th>...</th>\n",
       "      <td>...</td>\n",
       "      <td>...</td>\n",
       "      <td>...</td>\n",
       "      <td>...</td>\n",
       "      <td>...</td>\n",
       "      <td>...</td>\n",
       "    </tr>\n",
       "    <tr>\n",
       "      <th>244322</th>\n",
       "      <td>mid / senior software developer shropshire ****k</td>\n",
       "      <td>Mid/Senior Software Developer Shropshire ****k...</td>\n",
       "      <td>IT Jobs</td>\n",
       "      <td>32500</td>\n",
       "      <td>software developer</td>\n",
       "      <td>software developer</td>\n",
       "    </tr>\n",
       "    <tr>\n",
       "      <th>244325</th>\n",
       "      <td>junior trainer</td>\n",
       "      <td>Junior IT Trainer  Top 20 UK Law Firm  Central...</td>\n",
       "      <td>IT Jobs</td>\n",
       "      <td>32500</td>\n",
       "      <td>junior trainer</td>\n",
       "      <td>Other</td>\n",
       "    </tr>\n",
       "    <tr>\n",
       "      <th>244334</th>\n",
       "      <td>php software developer</td>\n",
       "      <td>PHP Software Developer Glasgow Eden Scott s cl...</td>\n",
       "      <td>IT Jobs</td>\n",
       "      <td>27500</td>\n",
       "      <td>software developer</td>\n",
       "      <td>software developer</td>\n",
       "    </tr>\n",
       "    <tr>\n",
       "      <th>244336</th>\n",
       "      <td>mi analyst (reporting analyst)  trainee</td>\n",
       "      <td>MI Analyst (Reporting Analyst)  Trainee. Excel...</td>\n",
       "      <td>IT Jobs</td>\n",
       "      <td>27500</td>\n",
       "      <td>reporting analyst</td>\n",
       "      <td>reporting analyst</td>\n",
       "    </tr>\n",
       "    <tr>\n",
       "      <th>244348</th>\n",
       "      <td>web designer / developer</td>\n",
       "      <td>Job Role: Web Designer/Developer Location: Che...</td>\n",
       "      <td>IT Jobs</td>\n",
       "      <td>20500</td>\n",
       "      <td>developer</td>\n",
       "      <td>developer</td>\n",
       "    </tr>\n",
       "  </tbody>\n",
       "</table>\n",
       "<p>38483 rows × 6 columns</p>\n",
       "</div>"
      ],
      "text/plain": [
       "                                                   Title  \\\n",
       "31                                       c/c++ developer   \n",
       "32                                  senior php developer   \n",
       "33                               senior website designer   \n",
       "34                          business development manager   \n",
       "38                                           qa engineer   \n",
       "...                                                  ...   \n",
       "244322  mid / senior software developer shropshire ****k   \n",
       "244325                                    junior trainer   \n",
       "244334                            php software developer   \n",
       "244336           mi analyst (reporting analyst)  trainee   \n",
       "244348                          web designer / developer   \n",
       "\n",
       "                                          FullDescription Category  \\\n",
       "31      A leading company that provides stock market a...  IT Jobs   \n",
       "32      A skilled Senior PHP Developer is required by ...  IT Jobs   \n",
       "33      SENIOR WEBSITE DESIGNER Location: York, East Y...  IT Jobs   \n",
       "34      The Company: Our client are a full service, cr...  IT Jobs   \n",
       "38      An expanding software and consultancy services...  IT Jobs   \n",
       "...                                                   ...      ...   \n",
       "244322  Mid/Senior Software Developer Shropshire ****k...  IT Jobs   \n",
       "244325  Junior IT Trainer  Top 20 UK Law Firm  Central...  IT Jobs   \n",
       "244334  PHP Software Developer Glasgow Eden Scott s cl...  IT Jobs   \n",
       "244336  MI Analyst (Reporting Analyst)  Trainee. Excel...  IT Jobs   \n",
       "244348  Job Role: Web Designer/Developer Location: Che...  IT Jobs   \n",
       "\n",
       "        SalaryNormalized                   Title_fixed Title_final_category  \n",
       "31                 32500                     developer            developer  \n",
       "32                 45000                 php developer        php developer  \n",
       "33                 25000       senior website designer                Other  \n",
       "34                 21000  business development manager                Other  \n",
       "38                 30000                   qa engineer          qa engineer  \n",
       "...                  ...                           ...                  ...  \n",
       "244322             32500            software developer   software developer  \n",
       "244325             32500                junior trainer                Other  \n",
       "244334             27500            software developer   software developer  \n",
       "244336             27500             reporting analyst    reporting analyst  \n",
       "244348             20500                     developer            developer  \n",
       "\n",
       "[38483 rows x 6 columns]"
      ]
     },
     "execution_count": 15,
     "metadata": {},
     "output_type": "execute_result"
    }
   ],
   "source": [
    "tech_jobs"
   ]
  },
  {
   "cell_type": "code",
   "execution_count": 16,
   "id": "3fd579db",
   "metadata": {
    "scrolled": true
   },
   "outputs": [
    {
     "data": {
      "text/plain": [
       "'install my favourite sesame street character'"
      ]
     },
     "execution_count": 16,
     "metadata": {},
     "output_type": "execute_result"
    }
   ],
   "source": [
    "'''install my favourite sesame street character'''\n",
    "#!pip install keybert"
   ]
  },
  {
   "cell_type": "code",
   "execution_count": 17,
   "id": "de2fbb37",
   "metadata": {},
   "outputs": [
    {
     "data": {
      "text/plain": [
       "31    A leading company that provides stock market a...\n",
       "32    A skilled Senior PHP Developer is required by ...\n",
       "33    SENIOR WEBSITE DESIGNER Location: York, East Y...\n",
       "Name: FullDescription, dtype: object"
      ]
     },
     "execution_count": 17,
     "metadata": {},
     "output_type": "execute_result"
    }
   ],
   "source": [
    "'''what else to remove from description?\n",
    "countries\n",
    "common words\n",
    "salary\n",
    "stopwords\n",
    "'''\n",
    "\n",
    "tech_jobs['FullDescription'].iloc[:3]"
   ]
  },
  {
   "cell_type": "code",
   "execution_count": 18,
   "id": "d1f975b8",
   "metadata": {},
   "outputs": [],
   "source": [
    "from keybert import KeyBERT\n",
    "\n",
    "doc = tech_jobs['FullDescription'].iloc[3]\n",
    "kw_model = KeyBERT()\n",
    "keywords = kw_model.extract_keywords(doc)"
   ]
  },
  {
   "cell_type": "code",
   "execution_count": 19,
   "id": "4209d129",
   "metadata": {},
   "outputs": [
    {
     "data": {
      "text/plain": [
       "[('managing', 0.4218),\n",
       " ('tyne', 0.2529),\n",
       " ('client', 0.3103),\n",
       " ('develop', 0.4097),\n",
       " ('contact', 0.233),\n",
       " ('specialising', 0.2188),\n",
       " ('outbound', 0.1255),\n",
       " ('motivate', 0.1761),\n",
       " ('business', 0.3286),\n",
       " ('portfolio', 0.2019)]"
      ]
     },
     "execution_count": 19,
     "metadata": {},
     "output_type": "execute_result"
    }
   ],
   "source": [
    "kw_model.extract_keywords(doc, keyphrase_ngram_range=(1, 1), stop_words='english', \n",
    "                              use_mmr=True, diversity=0.5,top_n=10)"
   ]
  },
  {
   "cell_type": "code",
   "execution_count": 20,
   "id": "9cc01d01",
   "metadata": {},
   "outputs": [
    {
     "data": {
      "text/plain": [
       "[('business development', 0.5148),\n",
       " ('development manager', 0.5059),\n",
       " ('prospective clients', 0.48),\n",
       " ('potential clients', 0.4762),\n",
       " ('management skills', 0.4455),\n",
       " ('managing director', 0.4227),\n",
       " ('managing', 0.4218),\n",
       " ('develop', 0.4097),\n",
       " ('clients create', 0.4096),\n",
       " ('the managing', 0.4037)]"
      ]
     },
     "execution_count": 20,
     "metadata": {},
     "output_type": "execute_result"
    }
   ],
   "source": [
    "kw_model.extract_keywords(doc, keyphrase_ngram_range=(1, 2), stop_words=None,top_n=10)"
   ]
  },
  {
   "cell_type": "code",
   "execution_count": 21,
   "id": "5e546e4b",
   "metadata": {},
   "outputs": [],
   "source": [
    "def mmr_extractions(doc,kw_model):\n",
    "    keywords = kw_model.extract_keywords(doc)\n",
    "    X = kw_model.extract_keywords(doc, keyphrase_ngram_range=(1, 2), stop_words='english', \n",
    "                              use_mmr=True, diversity=0.7,top_n=10)\n",
    "    X_list = [i[0] for i in X ]\n",
    "    return X_list"
   ]
  },
  {
   "cell_type": "code",
   "execution_count": 22,
   "id": "cad49013",
   "metadata": {},
   "outputs": [
    {
     "data": {
      "text/plain": [
       "(100, 6)"
      ]
     },
     "execution_count": 22,
     "metadata": {},
     "output_type": "execute_result"
    }
   ],
   "source": [
    "df_test = tech_jobs[tech_jobs['Title_final_category']=='sales'][:100]\n",
    "df_test.shape"
   ]
  },
  {
   "cell_type": "code",
   "execution_count": 23,
   "id": "7566d2b3",
   "metadata": {},
   "outputs": [],
   "source": [
    "kw_model = KeyBERT()\n",
    "df_test['keywords'] = df_test['FullDescription'].apply(lambda x: mmr_extractions(x,kw_model))"
   ]
  },
  {
   "cell_type": "code",
   "execution_count": 24,
   "id": "43d75575",
   "metadata": {},
   "outputs": [],
   "source": [
    "X = df_test.drop(columns = ['Title','FullDescription','SalaryNormalized','Title_fixed','Title_final_category','Category'])\n",
    "y = df_test['Title_final_category']"
   ]
  },
  {
   "cell_type": "code",
   "execution_count": 32,
   "id": "635393f9",
   "metadata": {},
   "outputs": [
    {
     "data": {
      "text/html": [
       "<div>\n",
       "<style scoped>\n",
       "    .dataframe tbody tr th:only-of-type {\n",
       "        vertical-align: middle;\n",
       "    }\n",
       "\n",
       "    .dataframe tbody tr th {\n",
       "        vertical-align: top;\n",
       "    }\n",
       "\n",
       "    .dataframe thead th {\n",
       "        text-align: right;\n",
       "    }\n",
       "</style>\n",
       "<table border=\"1\" class=\"dataframe\">\n",
       "  <thead>\n",
       "    <tr style=\"text-align: right;\">\n",
       "      <th></th>\n",
       "      <th>keywords</th>\n",
       "      <th>keywords_list</th>\n",
       "    </tr>\n",
       "  </thead>\n",
       "  <tbody>\n",
       "    <tr>\n",
       "      <th>2491</th>\n",
       "      <td>[presales consultant, motorway links, experien...</td>\n",
       "      <td>presales consultant motorway links experience ...</td>\n",
       "    </tr>\n",
       "    <tr>\n",
       "      <th>2508</th>\n",
       "      <td>[b2b telsales, step continuous, portfolio prev...</td>\n",
       "      <td>b2b telsales step continuous portfolio previou...</td>\n",
       "    </tr>\n",
       "    <tr>\n",
       "      <th>2529</th>\n",
       "      <td>[global career, cover costs, ote gross, prefer...</td>\n",
       "      <td>global career cover costs ote gross prefer 612...</td>\n",
       "    </tr>\n",
       "    <tr>\n",
       "      <th>2560</th>\n",
       "      <td>[alcatel lucent, maintain business, pbx relate...</td>\n",
       "      <td>alcatel lucent maintain business pbx related s...</td>\n",
       "    </tr>\n",
       "    <tr>\n",
       "      <th>2572</th>\n",
       "      <td>[cisco sales, ideal candidate, involve special...</td>\n",
       "      <td>cisco sales ideal candidate involve specialist...</td>\n",
       "    </tr>\n",
       "    <tr>\n",
       "      <th>...</th>\n",
       "      <td>...</td>\n",
       "      <td>...</td>\n",
       "    </tr>\n",
       "    <tr>\n",
       "      <th>17512</th>\n",
       "      <td>[sell sponsorship, wifi sector, client records...</td>\n",
       "      <td>sell sponsorship wifi sector client records fl...</td>\n",
       "    </tr>\n",
       "    <tr>\n",
       "      <th>17530</th>\n",
       "      <td>[client responsibilities, prospecting selfgene...</td>\n",
       "      <td>client responsibilities prospecting selfgenera...</td>\n",
       "    </tr>\n",
       "    <tr>\n",
       "      <th>18181</th>\n",
       "      <td>[business analyst, configuration possession, l...</td>\n",
       "      <td>business analyst configuration possession lond...</td>\n",
       "    </tr>\n",
       "    <tr>\n",
       "      <th>18286</th>\n",
       "      <td>[vendor ote, financial performance, charlotte ...</td>\n",
       "      <td>vendor ote financial performance charlotte smi...</td>\n",
       "    </tr>\n",
       "    <tr>\n",
       "      <th>18303</th>\n",
       "      <td>[sales experience, computer futures, dynamics ...</td>\n",
       "      <td>sales experience computer futures dynamics crm...</td>\n",
       "    </tr>\n",
       "  </tbody>\n",
       "</table>\n",
       "<p>100 rows × 2 columns</p>\n",
       "</div>"
      ],
      "text/plain": [
       "                                                keywords  \\\n",
       "2491   [presales consultant, motorway links, experien...   \n",
       "2508   [b2b telsales, step continuous, portfolio prev...   \n",
       "2529   [global career, cover costs, ote gross, prefer...   \n",
       "2560   [alcatel lucent, maintain business, pbx relate...   \n",
       "2572   [cisco sales, ideal candidate, involve special...   \n",
       "...                                                  ...   \n",
       "17512  [sell sponsorship, wifi sector, client records...   \n",
       "17530  [client responsibilities, prospecting selfgene...   \n",
       "18181  [business analyst, configuration possession, l...   \n",
       "18286  [vendor ote, financial performance, charlotte ...   \n",
       "18303  [sales experience, computer futures, dynamics ...   \n",
       "\n",
       "                                           keywords_list  \n",
       "2491   presales consultant motorway links experience ...  \n",
       "2508   b2b telsales step continuous portfolio previou...  \n",
       "2529   global career cover costs ote gross prefer 612...  \n",
       "2560   alcatel lucent maintain business pbx related s...  \n",
       "2572   cisco sales ideal candidate involve specialist...  \n",
       "...                                                  ...  \n",
       "17512  sell sponsorship wifi sector client records fl...  \n",
       "17530  client responsibilities prospecting selfgenera...  \n",
       "18181  business analyst configuration possession lond...  \n",
       "18286  vendor ote financial performance charlotte smi...  \n",
       "18303  sales experience computer futures dynamics crm...  \n",
       "\n",
       "[100 rows x 2 columns]"
      ]
     },
     "execution_count": 32,
     "metadata": {},
     "output_type": "execute_result"
    }
   ],
   "source": [
    "X['keywords_list'] = X['keywords'].apply(lambda x:' '.join(x))\n",
    "X"
   ]
  },
  {
   "cell_type": "code",
   "execution_count": 26,
   "id": "7e938134",
   "metadata": {},
   "outputs": [
    {
     "ename": "NameError",
     "evalue": "name 'y_pred' is not defined",
     "output_type": "error",
     "traceback": [
      "\u001b[0;31m---------------------------------------------------------------------------\u001b[0m",
      "\u001b[0;31mNameError\u001b[0m                                 Traceback (most recent call last)",
      "Input \u001b[0;32mIn [26]\u001b[0m, in \u001b[0;36m<module>\u001b[0;34m\u001b[0m\n\u001b[0;32m----> 1\u001b[0m \u001b[43my_pred\u001b[49m\n",
      "\u001b[0;31mNameError\u001b[0m: name 'y_pred' is not defined"
     ]
    }
   ],
   "source": [
    "y_pred"
   ]
  }
 ],
 "metadata": {
  "kernelspec": {
   "display_name": "Python 3 (ipykernel)",
   "language": "python",
   "name": "python3"
  },
  "language_info": {
   "codemirror_mode": {
    "name": "ipython",
    "version": 3
   },
   "file_extension": ".py",
   "mimetype": "text/x-python",
   "name": "python",
   "nbconvert_exporter": "python",
   "pygments_lexer": "ipython3",
   "version": "3.8.12"
  },
  "toc": {
   "base_numbering": 1,
   "nav_menu": {},
   "number_sections": true,
   "sideBar": true,
   "skip_h1_title": false,
   "title_cell": "Table of Contents",
   "title_sidebar": "Contents",
   "toc_cell": false,
   "toc_position": {},
   "toc_section_display": true,
   "toc_window_display": false
  }
 },
 "nbformat": 4,
 "nbformat_minor": 5
}
